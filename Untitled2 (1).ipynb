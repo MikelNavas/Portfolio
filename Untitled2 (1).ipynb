{
 "cells": [
  {
   "cell_type": "code",
   "execution_count": 140,
   "id": "0131fd2a-1a88-48b7-8b51-c88932b5b310",
   "metadata": {},
   "outputs": [],
   "source": [
    "import pandas as pd \n",
    "import requests\n",
    "from bs4 import BeautifulSoup"
   ]
  },
  {
   "cell_type": "code",
   "execution_count": 141,
   "id": "7bc004c0-1b02-4e8c-9a3b-da7d5176889a",
   "metadata": {},
   "outputs": [],
   "source": [
    "url = 'https://www.scrapethissite.com/pages/simple/'\n",
    "response = requests.get(url)"
   ]
  },
  {
   "cell_type": "code",
   "execution_count": 142,
   "id": "34d0d961-3a5b-4205-b997-c4f41e379db2",
   "metadata": {},
   "outputs": [],
   "source": [
    "soup = BeautifulSoup(response.text, 'html.parser')"
   ]
  },
  {
   "cell_type": "code",
   "execution_count": 143,
   "id": "fccfaf9c-b17b-45f9-a279-5f3119840899",
   "metadata": {},
   "outputs": [],
   "source": [
    "countries = soup.find_all('div', class_='col-md-4 country')"
   ]
  },
  {
   "cell_type": "code",
   "execution_count": 144,
   "id": "292c2975-e99d-49c5-91c4-9b92341a5a8e",
   "metadata": {},
   "outputs": [],
   "source": [
    "data = []"
   ]
  },
  {
   "cell_type": "code",
   "execution_count": 145,
   "id": "711e2176-7e01-47be-80e9-7cb6bee05264",
   "metadata": {},
   "outputs": [],
   "source": [
    "for country in countries:\n",
    "    country_name = country.find('h3', class_='country-name').text.strip()\n",
    "    capital = country.find('span', class_='country-capital').text.strip()\n",
    "    population = country.find('span', class_='country-population').text.strip()\n",
    "    area = country.find('span', class_='country-area').text.strip()\n",
    "    data.append({\n",
    "        'Country': country_name,\n",
    "        'Capital': capital,\n",
    "        'Population': population,\n",
    "        'Area': area\n",
    "    })"
   ]
  },
  {
   "cell_type": "code",
   "execution_count": 146,
   "id": "7117f440-08f1-435b-89cd-873429ac8b7f",
   "metadata": {},
   "outputs": [
    {
     "name": "stdout",
     "output_type": "stream",
     "text": [
      "[{'Country': 'Andorra', 'Capital': 'Andorra la Vella', 'Population': '84000', 'Area': '468.0'}, {'Country': 'United Arab Emirates', 'Capital': 'Abu Dhabi', 'Population': '4975593', 'Area': '82880.0'}, {'Country': 'Afghanistan', 'Capital': 'Kabul', 'Population': '29121286', 'Area': '647500.0'}, {'Country': 'Antigua and Barbuda', 'Capital': \"St. John's\", 'Population': '86754', 'Area': '443.0'}, {'Country': 'Anguilla', 'Capital': 'The Valley', 'Population': '13254', 'Area': '102.0'}, {'Country': 'Albania', 'Capital': 'Tirana', 'Population': '2986952', 'Area': '28748.0'}, {'Country': 'Armenia', 'Capital': 'Yerevan', 'Population': '2968000', 'Area': '29800.0'}, {'Country': 'Angola', 'Capital': 'Luanda', 'Population': '13068161', 'Area': '1246700.0'}, {'Country': 'Antarctica', 'Capital': 'None', 'Population': '0', 'Area': '1.4E7'}, {'Country': 'Argentina', 'Capital': 'Buenos Aires', 'Population': '41343201', 'Area': '2766890.0'}, {'Country': 'American Samoa', 'Capital': 'Pago Pago', 'Population': '57881', 'Area': '199.0'}, {'Country': 'Austria', 'Capital': 'Vienna', 'Population': '8205000', 'Area': '83858.0'}, {'Country': 'Australia', 'Capital': 'Canberra', 'Population': '21515754', 'Area': '7686850.0'}, {'Country': 'Aruba', 'Capital': 'Oranjestad', 'Population': '71566', 'Area': '193.0'}, {'Country': 'Åland', 'Capital': 'Mariehamn', 'Population': '26711', 'Area': '1580.0'}, {'Country': 'Azerbaijan', 'Capital': 'Baku', 'Population': '8303512', 'Area': '86600.0'}, {'Country': 'Bosnia and Herzegovina', 'Capital': 'Sarajevo', 'Population': '4590000', 'Area': '51129.0'}, {'Country': 'Barbados', 'Capital': 'Bridgetown', 'Population': '285653', 'Area': '431.0'}, {'Country': 'Bangladesh', 'Capital': 'Dhaka', 'Population': '156118464', 'Area': '144000.0'}, {'Country': 'Belgium', 'Capital': 'Brussels', 'Population': '10403000', 'Area': '30510.0'}, {'Country': 'Burkina Faso', 'Capital': 'Ouagadougou', 'Population': '16241811', 'Area': '274200.0'}, {'Country': 'Bulgaria', 'Capital': 'Sofia', 'Population': '7148785', 'Area': '110910.0'}, {'Country': 'Bahrain', 'Capital': 'Manama', 'Population': '738004', 'Area': '665.0'}, {'Country': 'Burundi', 'Capital': 'Bujumbura', 'Population': '9863117', 'Area': '27830.0'}, {'Country': 'Benin', 'Capital': 'Porto-Novo', 'Population': '9056010', 'Area': '112620.0'}, {'Country': 'Saint Barthélemy', 'Capital': 'Gustavia', 'Population': '8450', 'Area': '21.0'}, {'Country': 'Bermuda', 'Capital': 'Hamilton', 'Population': '65365', 'Area': '53.0'}, {'Country': 'Brunei', 'Capital': 'Bandar Seri Begawan', 'Population': '395027', 'Area': '5770.0'}, {'Country': 'Bolivia', 'Capital': 'Sucre', 'Population': '9947418', 'Area': '1098580.0'}, {'Country': 'Bonaire', 'Capital': 'Kralendijk', 'Population': '18012', 'Area': '328.0'}, {'Country': 'Brazil', 'Capital': 'Brasília', 'Population': '201103330', 'Area': '8511965.0'}, {'Country': 'Bahamas', 'Capital': 'Nassau', 'Population': '301790', 'Area': '13940.0'}, {'Country': 'Bhutan', 'Capital': 'Thimphu', 'Population': '699847', 'Area': '47000.0'}, {'Country': 'Bouvet Island', 'Capital': 'None', 'Population': '0', 'Area': '49.0'}, {'Country': 'Botswana', 'Capital': 'Gaborone', 'Population': '2029307', 'Area': '600370.0'}, {'Country': 'Belarus', 'Capital': 'Minsk', 'Population': '9685000', 'Area': '207600.0'}, {'Country': 'Belize', 'Capital': 'Belmopan', 'Population': '314522', 'Area': '22966.0'}, {'Country': 'Canada', 'Capital': 'Ottawa', 'Population': '33679000', 'Area': '9984670.0'}, {'Country': 'Cocos [Keeling] Islands', 'Capital': 'West Island', 'Population': '628', 'Area': '14.0'}, {'Country': 'Democratic Republic of the Congo', 'Capital': 'Kinshasa', 'Population': '70916439', 'Area': '2345410.0'}, {'Country': 'Central African Republic', 'Capital': 'Bangui', 'Population': '4844927', 'Area': '622984.0'}, {'Country': 'Republic of the Congo', 'Capital': 'Brazzaville', 'Population': '3039126', 'Area': '342000.0'}, {'Country': 'Switzerland', 'Capital': 'Bern', 'Population': '7581000', 'Area': '41290.0'}, {'Country': 'Ivory Coast', 'Capital': 'Yamoussoukro', 'Population': '21058798', 'Area': '322460.0'}, {'Country': 'Cook Islands', 'Capital': 'Avarua', 'Population': '21388', 'Area': '240.0'}, {'Country': 'Chile', 'Capital': 'Santiago', 'Population': '16746491', 'Area': '756950.0'}, {'Country': 'Cameroon', 'Capital': 'Yaoundé', 'Population': '19294149', 'Area': '475440.0'}, {'Country': 'China', 'Capital': 'Beijing', 'Population': '1330044000', 'Area': '9596960.0'}, {'Country': 'Colombia', 'Capital': 'Bogotá', 'Population': '47790000', 'Area': '1138910.0'}, {'Country': 'Costa Rica', 'Capital': 'San José', 'Population': '4516220', 'Area': '51100.0'}, {'Country': 'Cuba', 'Capital': 'Havana', 'Population': '11423000', 'Area': '110860.0'}, {'Country': 'Cape Verde', 'Capital': 'Praia', 'Population': '508659', 'Area': '4033.0'}, {'Country': 'Curacao', 'Capital': 'Willemstad', 'Population': '141766', 'Area': '444.0'}, {'Country': 'Christmas Island', 'Capital': 'Flying Fish Cove', 'Population': '1500', 'Area': '135.0'}, {'Country': 'Cyprus', 'Capital': 'Nicosia', 'Population': '1102677', 'Area': '9250.0'}, {'Country': 'Czech Republic', 'Capital': 'Prague', 'Population': '10476000', 'Area': '78866.0'}, {'Country': 'Germany', 'Capital': 'Berlin', 'Population': '81802257', 'Area': '357021.0'}, {'Country': 'Djibouti', 'Capital': 'Djibouti', 'Population': '740528', 'Area': '23000.0'}, {'Country': 'Denmark', 'Capital': 'Copenhagen', 'Population': '5484000', 'Area': '43094.0'}, {'Country': 'Dominica', 'Capital': 'Roseau', 'Population': '72813', 'Area': '754.0'}, {'Country': 'Dominican Republic', 'Capital': 'Santo Domingo', 'Population': '9823821', 'Area': '48730.0'}, {'Country': 'Algeria', 'Capital': 'Algiers', 'Population': '34586184', 'Area': '2381740.0'}, {'Country': 'Ecuador', 'Capital': 'Quito', 'Population': '14790608', 'Area': '283560.0'}, {'Country': 'Estonia', 'Capital': 'Tallinn', 'Population': '1291170', 'Area': '45226.0'}, {'Country': 'Egypt', 'Capital': 'Cairo', 'Population': '80471869', 'Area': '1001450.0'}, {'Country': 'Western Sahara', 'Capital': 'Laâyoune / El Aaiún', 'Population': '273008', 'Area': '266000.0'}, {'Country': 'Eritrea', 'Capital': 'Asmara', 'Population': '5792984', 'Area': '121320.0'}, {'Country': 'Spain', 'Capital': 'Madrid', 'Population': '46505963', 'Area': '504782.0'}, {'Country': 'Ethiopia', 'Capital': 'Addis Ababa', 'Population': '88013491', 'Area': '1127127.0'}, {'Country': 'Finland', 'Capital': 'Helsinki', 'Population': '5244000', 'Area': '337030.0'}, {'Country': 'Fiji', 'Capital': 'Suva', 'Population': '875983', 'Area': '18270.0'}, {'Country': 'Falkland Islands', 'Capital': 'Stanley', 'Population': '2638', 'Area': '12173.0'}, {'Country': 'Micronesia', 'Capital': 'Palikir', 'Population': '107708', 'Area': '702.0'}, {'Country': 'Faroe Islands', 'Capital': 'Tórshavn', 'Population': '48228', 'Area': '1399.0'}, {'Country': 'France', 'Capital': 'Paris', 'Population': '64768389', 'Area': '547030.0'}, {'Country': 'Gabon', 'Capital': 'Libreville', 'Population': '1545255', 'Area': '267667.0'}, {'Country': 'United Kingdom', 'Capital': 'London', 'Population': '62348447', 'Area': '244820.0'}, {'Country': 'Grenada', 'Capital': \"St. George's\", 'Population': '107818', 'Area': '344.0'}, {'Country': 'Georgia', 'Capital': 'Tbilisi', 'Population': '4630000', 'Area': '69700.0'}, {'Country': 'French Guiana', 'Capital': 'Cayenne', 'Population': '195506', 'Area': '91000.0'}, {'Country': 'Guernsey', 'Capital': 'St Peter Port', 'Population': '65228', 'Area': '78.0'}, {'Country': 'Ghana', 'Capital': 'Accra', 'Population': '24339838', 'Area': '239460.0'}, {'Country': 'Gibraltar', 'Capital': 'Gibraltar', 'Population': '27884', 'Area': '6.5'}, {'Country': 'Greenland', 'Capital': 'Nuuk', 'Population': '56375', 'Area': '2166086.0'}, {'Country': 'Gambia', 'Capital': 'Bathurst', 'Population': '1593256', 'Area': '11300.0'}, {'Country': 'Guinea', 'Capital': 'Conakry', 'Population': '10324025', 'Area': '245857.0'}, {'Country': 'Guadeloupe', 'Capital': 'Basse-Terre', 'Population': '443000', 'Area': '1780.0'}, {'Country': 'Equatorial Guinea', 'Capital': 'Malabo', 'Population': '1014999', 'Area': '28051.0'}, {'Country': 'Greece', 'Capital': 'Athens', 'Population': '11000000', 'Area': '131940.0'}, {'Country': 'South Georgia and the South Sandwich Islands', 'Capital': 'Grytviken', 'Population': '30', 'Area': '3903.0'}, {'Country': 'Guatemala', 'Capital': 'Guatemala City', 'Population': '13550440', 'Area': '108890.0'}, {'Country': 'Guam', 'Capital': 'Hagåtña', 'Population': '159358', 'Area': '549.0'}, {'Country': 'Guinea-Bissau', 'Capital': 'Bissau', 'Population': '1565126', 'Area': '36120.0'}, {'Country': 'Guyana', 'Capital': 'Georgetown', 'Population': '748486', 'Area': '214970.0'}, {'Country': 'Hong Kong', 'Capital': 'Hong Kong', 'Population': '6898686', 'Area': '1092.0'}, {'Country': 'Heard Island and McDonald Islands', 'Capital': 'None', 'Population': '0', 'Area': '412.0'}, {'Country': 'Honduras', 'Capital': 'Tegucigalpa', 'Population': '7989415', 'Area': '112090.0'}, {'Country': 'Croatia', 'Capital': 'Zagreb', 'Population': '4491000', 'Area': '56542.0'}, {'Country': 'Haiti', 'Capital': 'Port-au-Prince', 'Population': '9648924', 'Area': '27750.0'}, {'Country': 'Hungary', 'Capital': 'Budapest', 'Population': '9982000', 'Area': '93030.0'}, {'Country': 'Indonesia', 'Capital': 'Jakarta', 'Population': '242968342', 'Area': '1919440.0'}, {'Country': 'Ireland', 'Capital': 'Dublin', 'Population': '4622917', 'Area': '70280.0'}, {'Country': 'Israel', 'Capital': 'None', 'Population': '7353985', 'Area': '20770.0'}, {'Country': 'Isle of Man', 'Capital': 'Douglas', 'Population': '75049', 'Area': '572.0'}, {'Country': 'India', 'Capital': 'New Delhi', 'Population': '1173108018', 'Area': '3287590.0'}, {'Country': 'British Indian Ocean Territory', 'Capital': 'None', 'Population': '4000', 'Area': '60.0'}, {'Country': 'Iraq', 'Capital': 'Baghdad', 'Population': '29671605', 'Area': '437072.0'}, {'Country': 'Iran', 'Capital': 'Tehran', 'Population': '76923300', 'Area': '1648000.0'}, {'Country': 'Iceland', 'Capital': 'Reykjavik', 'Population': '308910', 'Area': '103000.0'}, {'Country': 'Italy', 'Capital': 'Rome', 'Population': '60340328', 'Area': '301230.0'}, {'Country': 'Jersey', 'Capital': 'Saint Helier', 'Population': '90812', 'Area': '116.0'}, {'Country': 'Jamaica', 'Capital': 'Kingston', 'Population': '2847232', 'Area': '10991.0'}, {'Country': 'Jordan', 'Capital': 'Amman', 'Population': '6407085', 'Area': '92300.0'}, {'Country': 'Japan', 'Capital': 'Tokyo', 'Population': '127288000', 'Area': '377835.0'}, {'Country': 'Kenya', 'Capital': 'Nairobi', 'Population': '40046566', 'Area': '582650.0'}, {'Country': 'Kyrgyzstan', 'Capital': 'Bishkek', 'Population': '5776500', 'Area': '198500.0'}, {'Country': 'Cambodia', 'Capital': 'Phnom Penh', 'Population': '14453680', 'Area': '181040.0'}, {'Country': 'Kiribati', 'Capital': 'Tarawa', 'Population': '92533', 'Area': '811.0'}, {'Country': 'Comoros', 'Capital': 'Moroni', 'Population': '773407', 'Area': '2170.0'}, {'Country': 'Saint Kitts and Nevis', 'Capital': 'Basseterre', 'Population': '51134', 'Area': '261.0'}, {'Country': 'North Korea', 'Capital': 'Pyongyang', 'Population': '22912177', 'Area': '120540.0'}, {'Country': 'South Korea', 'Capital': 'Seoul', 'Population': '48422644', 'Area': '98480.0'}, {'Country': 'Kuwait', 'Capital': 'Kuwait City', 'Population': '2789132', 'Area': '17820.0'}, {'Country': 'Cayman Islands', 'Capital': 'George Town', 'Population': '44270', 'Area': '262.0'}, {'Country': 'Kazakhstan', 'Capital': 'Astana', 'Population': '15340000', 'Area': '2717300.0'}, {'Country': 'Laos', 'Capital': 'Vientiane', 'Population': '6368162', 'Area': '236800.0'}, {'Country': 'Lebanon', 'Capital': 'Beirut', 'Population': '4125247', 'Area': '10400.0'}, {'Country': 'Saint Lucia', 'Capital': 'Castries', 'Population': '160922', 'Area': '616.0'}, {'Country': 'Liechtenstein', 'Capital': 'Vaduz', 'Population': '35000', 'Area': '160.0'}, {'Country': 'Sri Lanka', 'Capital': 'Colombo', 'Population': '21513990', 'Area': '65610.0'}, {'Country': 'Liberia', 'Capital': 'Monrovia', 'Population': '3685076', 'Area': '111370.0'}, {'Country': 'Lesotho', 'Capital': 'Maseru', 'Population': '1919552', 'Area': '30355.0'}, {'Country': 'Lithuania', 'Capital': 'Vilnius', 'Population': '2944459', 'Area': '65200.0'}, {'Country': 'Luxembourg', 'Capital': 'Luxembourg', 'Population': '497538', 'Area': '2586.0'}, {'Country': 'Latvia', 'Capital': 'Riga', 'Population': '2217969', 'Area': '64589.0'}, {'Country': 'Libya', 'Capital': 'Tripoli', 'Population': '6461454', 'Area': '1759540.0'}, {'Country': 'Morocco', 'Capital': 'Rabat', 'Population': '31627428', 'Area': '446550.0'}, {'Country': 'Monaco', 'Capital': 'Monaco', 'Population': '32965', 'Area': '1.95'}, {'Country': 'Moldova', 'Capital': 'Chişinău', 'Population': '4324000', 'Area': '33843.0'}, {'Country': 'Montenegro', 'Capital': 'Podgorica', 'Population': '666730', 'Area': '14026.0'}, {'Country': 'Saint Martin', 'Capital': 'Marigot', 'Population': '35925', 'Area': '53.0'}, {'Country': 'Madagascar', 'Capital': 'Antananarivo', 'Population': '21281844', 'Area': '587040.0'}, {'Country': 'Marshall Islands', 'Capital': 'Majuro', 'Population': '65859', 'Area': '181.3'}, {'Country': 'Macedonia', 'Capital': 'Skopje', 'Population': '2062294', 'Area': '25333.0'}, {'Country': 'Mali', 'Capital': 'Bamako', 'Population': '13796354', 'Area': '1240000.0'}, {'Country': 'Myanmar [Burma]', 'Capital': 'Naypyitaw', 'Population': '53414374', 'Area': '678500.0'}, {'Country': 'Mongolia', 'Capital': 'Ulan Bator', 'Population': '3086918', 'Area': '1565000.0'}, {'Country': 'Macao', 'Capital': 'Macao', 'Population': '449198', 'Area': '254.0'}, {'Country': 'Northern Mariana Islands', 'Capital': 'Saipan', 'Population': '53883', 'Area': '477.0'}, {'Country': 'Martinique', 'Capital': 'Fort-de-France', 'Population': '432900', 'Area': '1100.0'}, {'Country': 'Mauritania', 'Capital': 'Nouakchott', 'Population': '3205060', 'Area': '1030700.0'}, {'Country': 'Montserrat', 'Capital': 'Plymouth', 'Population': '9341', 'Area': '102.0'}, {'Country': 'Malta', 'Capital': 'Valletta', 'Population': '403000', 'Area': '316.0'}, {'Country': 'Mauritius', 'Capital': 'Port Louis', 'Population': '1294104', 'Area': '2040.0'}, {'Country': 'Maldives', 'Capital': 'Malé', 'Population': '395650', 'Area': '300.0'}, {'Country': 'Malawi', 'Capital': 'Lilongwe', 'Population': '15447500', 'Area': '118480.0'}, {'Country': 'Mexico', 'Capital': 'Mexico City', 'Population': '112468855', 'Area': '1972550.0'}, {'Country': 'Malaysia', 'Capital': 'Kuala Lumpur', 'Population': '28274729', 'Area': '329750.0'}, {'Country': 'Mozambique', 'Capital': 'Maputo', 'Population': '22061451', 'Area': '801590.0'}, {'Country': 'Namibia', 'Capital': 'Windhoek', 'Population': '2128471', 'Area': '825418.0'}, {'Country': 'New Caledonia', 'Capital': 'Noumea', 'Population': '216494', 'Area': '19060.0'}, {'Country': 'Niger', 'Capital': 'Niamey', 'Population': '15878271', 'Area': '1267000.0'}, {'Country': 'Norfolk Island', 'Capital': 'Kingston', 'Population': '1828', 'Area': '34.6'}, {'Country': 'Nigeria', 'Capital': 'Abuja', 'Population': '154000000', 'Area': '923768.0'}, {'Country': 'Nicaragua', 'Capital': 'Managua', 'Population': '5995928', 'Area': '129494.0'}, {'Country': 'Netherlands', 'Capital': 'Amsterdam', 'Population': '16645000', 'Area': '41526.0'}, {'Country': 'Norway', 'Capital': 'Oslo', 'Population': '5009150', 'Area': '324220.0'}, {'Country': 'Nepal', 'Capital': 'Kathmandu', 'Population': '28951852', 'Area': '140800.0'}, {'Country': 'Nauru', 'Capital': 'Yaren', 'Population': '10065', 'Area': '21.0'}, {'Country': 'Niue', 'Capital': 'Alofi', 'Population': '2166', 'Area': '260.0'}, {'Country': 'New Zealand', 'Capital': 'Wellington', 'Population': '4252277', 'Area': '268680.0'}, {'Country': 'Oman', 'Capital': 'Muscat', 'Population': '2967717', 'Area': '212460.0'}, {'Country': 'Panama', 'Capital': 'Panama City', 'Population': '3410676', 'Area': '78200.0'}, {'Country': 'Peru', 'Capital': 'Lima', 'Population': '29907003', 'Area': '1285220.0'}, {'Country': 'French Polynesia', 'Capital': 'Papeete', 'Population': '270485', 'Area': '4167.0'}, {'Country': 'Papua New Guinea', 'Capital': 'Port Moresby', 'Population': '6064515', 'Area': '462840.0'}, {'Country': 'Philippines', 'Capital': 'Manila', 'Population': '99900177', 'Area': '300000.0'}, {'Country': 'Pakistan', 'Capital': 'Islamabad', 'Population': '184404791', 'Area': '803940.0'}, {'Country': 'Poland', 'Capital': 'Warsaw', 'Population': '38500000', 'Area': '312685.0'}, {'Country': 'Saint Pierre and Miquelon', 'Capital': 'Saint-Pierre', 'Population': '7012', 'Area': '242.0'}, {'Country': 'Pitcairn Islands', 'Capital': 'Adamstown', 'Population': '46', 'Area': '47.0'}, {'Country': 'Puerto Rico', 'Capital': 'San Juan', 'Population': '3916632', 'Area': '9104.0'}, {'Country': 'Palestine', 'Capital': 'None', 'Population': '3800000', 'Area': '5970.0'}, {'Country': 'Portugal', 'Capital': 'Lisbon', 'Population': '10676000', 'Area': '92391.0'}, {'Country': 'Palau', 'Capital': 'Melekeok', 'Population': '19907', 'Area': '458.0'}, {'Country': 'Paraguay', 'Capital': 'Asunción', 'Population': '6375830', 'Area': '406750.0'}, {'Country': 'Qatar', 'Capital': 'Doha', 'Population': '840926', 'Area': '11437.0'}, {'Country': 'Réunion', 'Capital': 'Saint-Denis', 'Population': '776948', 'Area': '2517.0'}, {'Country': 'Romania', 'Capital': 'Bucharest', 'Population': '21959278', 'Area': '237500.0'}, {'Country': 'Serbia', 'Capital': 'Belgrade', 'Population': '7344847', 'Area': '88361.0'}, {'Country': 'Russia', 'Capital': 'Moscow', 'Population': '140702000', 'Area': '1.71E7'}, {'Country': 'Rwanda', 'Capital': 'Kigali', 'Population': '11055976', 'Area': '26338.0'}, {'Country': 'Saudi Arabia', 'Capital': 'Riyadh', 'Population': '25731776', 'Area': '1960582.0'}, {'Country': 'Solomon Islands', 'Capital': 'Honiara', 'Population': '559198', 'Area': '28450.0'}, {'Country': 'Seychelles', 'Capital': 'Victoria', 'Population': '88340', 'Area': '455.0'}, {'Country': 'Sudan', 'Capital': 'Khartoum', 'Population': '35000000', 'Area': '1861484.0'}, {'Country': 'Sweden', 'Capital': 'Stockholm', 'Population': '9828655', 'Area': '449964.0'}, {'Country': 'Singapore', 'Capital': 'Singapore', 'Population': '4701069', 'Area': '692.7'}, {'Country': 'Saint Helena', 'Capital': 'Jamestown', 'Population': '7460', 'Area': '410.0'}, {'Country': 'Slovenia', 'Capital': 'Ljubljana', 'Population': '2007000', 'Area': '20273.0'}, {'Country': 'Svalbard and Jan Mayen', 'Capital': 'Longyearbyen', 'Population': '2550', 'Area': '62049.0'}, {'Country': 'Slovakia', 'Capital': 'Bratislava', 'Population': '5455000', 'Area': '48845.0'}, {'Country': 'Sierra Leone', 'Capital': 'Freetown', 'Population': '5245695', 'Area': '71740.0'}, {'Country': 'San Marino', 'Capital': 'San Marino', 'Population': '31477', 'Area': '61.2'}, {'Country': 'Senegal', 'Capital': 'Dakar', 'Population': '12323252', 'Area': '196190.0'}, {'Country': 'Somalia', 'Capital': 'Mogadishu', 'Population': '10112453', 'Area': '637657.0'}, {'Country': 'Suriname', 'Capital': 'Paramaribo', 'Population': '492829', 'Area': '163270.0'}, {'Country': 'South Sudan', 'Capital': 'Juba', 'Population': '8260490', 'Area': '644329.0'}, {'Country': 'São Tomé and Príncipe', 'Capital': 'São Tomé', 'Population': '175808', 'Area': '1001.0'}, {'Country': 'El Salvador', 'Capital': 'San Salvador', 'Population': '6052064', 'Area': '21040.0'}, {'Country': 'Sint Maarten', 'Capital': 'Philipsburg', 'Population': '37429', 'Area': '21.0'}, {'Country': 'Syria', 'Capital': 'Damascus', 'Population': '22198110', 'Area': '185180.0'}, {'Country': 'Swaziland', 'Capital': 'Mbabane', 'Population': '1354051', 'Area': '17363.0'}, {'Country': 'Turks and Caicos Islands', 'Capital': 'Cockburn Town', 'Population': '20556', 'Area': '430.0'}, {'Country': 'Chad', 'Capital': \"N'Djamena\", 'Population': '10543464', 'Area': '1284000.0'}, {'Country': 'French Southern Territories', 'Capital': 'Port-aux-Français', 'Population': '140', 'Area': '7829.0'}, {'Country': 'Togo', 'Capital': 'Lomé', 'Population': '6587239', 'Area': '56785.0'}, {'Country': 'Thailand', 'Capital': 'Bangkok', 'Population': '67089500', 'Area': '514000.0'}, {'Country': 'Tajikistan', 'Capital': 'Dushanbe', 'Population': '7487489', 'Area': '143100.0'}, {'Country': 'Tokelau', 'Capital': 'None', 'Population': '1466', 'Area': '10.0'}, {'Country': 'East Timor', 'Capital': 'Dili', 'Population': '1154625', 'Area': '15007.0'}, {'Country': 'Turkmenistan', 'Capital': 'Ashgabat', 'Population': '4940916', 'Area': '488100.0'}, {'Country': 'Tunisia', 'Capital': 'Tunis', 'Population': '10589025', 'Area': '163610.0'}, {'Country': 'Tonga', 'Capital': \"Nuku'alofa\", 'Population': '122580', 'Area': '748.0'}, {'Country': 'Turkey', 'Capital': 'Ankara', 'Population': '77804122', 'Area': '780580.0'}, {'Country': 'Trinidad and Tobago', 'Capital': 'Port of Spain', 'Population': '1228691', 'Area': '5128.0'}, {'Country': 'Tuvalu', 'Capital': 'Funafuti', 'Population': '10472', 'Area': '26.0'}, {'Country': 'Taiwan', 'Capital': 'Taipei', 'Population': '22894384', 'Area': '35980.0'}, {'Country': 'Tanzania', 'Capital': 'Dodoma', 'Population': '41892895', 'Area': '945087.0'}, {'Country': 'Ukraine', 'Capital': 'Kiev', 'Population': '45415596', 'Area': '603700.0'}, {'Country': 'Uganda', 'Capital': 'Kampala', 'Population': '33398682', 'Area': '236040.0'}, {'Country': 'U.S. Minor Outlying Islands', 'Capital': 'None', 'Population': '0', 'Area': '0.0'}, {'Country': 'United States', 'Capital': 'Washington', 'Population': '310232863', 'Area': '9629091.0'}, {'Country': 'Uruguay', 'Capital': 'Montevideo', 'Population': '3477000', 'Area': '176220.0'}, {'Country': 'Uzbekistan', 'Capital': 'Tashkent', 'Population': '27865738', 'Area': '447400.0'}, {'Country': 'Vatican City', 'Capital': 'Vatican City', 'Population': '921', 'Area': '0.44'}, {'Country': 'Saint Vincent and the Grenadines', 'Capital': 'Kingstown', 'Population': '104217', 'Area': '389.0'}, {'Country': 'Venezuela', 'Capital': 'Caracas', 'Population': '27223228', 'Area': '912050.0'}, {'Country': 'British Virgin Islands', 'Capital': 'Road Town', 'Population': '21730', 'Area': '153.0'}, {'Country': 'U.S. Virgin Islands', 'Capital': 'Charlotte Amalie', 'Population': '108708', 'Area': '352.0'}, {'Country': 'Vietnam', 'Capital': 'Hanoi', 'Population': '89571130', 'Area': '329560.0'}, {'Country': 'Vanuatu', 'Capital': 'Port Vila', 'Population': '221552', 'Area': '12200.0'}, {'Country': 'Wallis and Futuna', 'Capital': 'Mata-Utu', 'Population': '16025', 'Area': '274.0'}, {'Country': 'Samoa', 'Capital': 'Apia', 'Population': '192001', 'Area': '2944.0'}, {'Country': 'Kosovo', 'Capital': 'Pristina', 'Population': '1800000', 'Area': '10908.0'}, {'Country': 'Yemen', 'Capital': 'Sanaa', 'Population': '23495361', 'Area': '527970.0'}, {'Country': 'Mayotte', 'Capital': 'Mamoudzou', 'Population': '159042', 'Area': '374.0'}, {'Country': 'South Africa', 'Capital': 'Pretoria', 'Population': '49000000', 'Area': '1219912.0'}, {'Country': 'Zambia', 'Capital': 'Lusaka', 'Population': '13460305', 'Area': '752614.0'}, {'Country': 'Zimbabwe', 'Capital': 'Harare', 'Population': '11651858', 'Area': '390580.0'}]\n"
     ]
    }
   ],
   "source": [
    "print(data)"
   ]
  },
  {
   "cell_type": "code",
   "execution_count": 147,
   "id": "1caa5ce4-19c0-4025-9e58-7a8b367e8649",
   "metadata": {},
   "outputs": [],
   "source": [
    "df = pd.DataFrame(data)"
   ]
  },
  {
   "cell_type": "code",
   "execution_count": 148,
   "id": "a8766955-37b6-40f8-87a1-1861789370b0",
   "metadata": {},
   "outputs": [
    {
     "name": "stdout",
     "output_type": "stream",
     "text": [
      "                  Country           Capital Population       Area\n",
      "0                 Andorra  Andorra la Vella      84000      468.0\n",
      "1    United Arab Emirates         Abu Dhabi    4975593    82880.0\n",
      "2             Afghanistan             Kabul   29121286   647500.0\n",
      "3     Antigua and Barbuda        St. John's      86754      443.0\n",
      "4                Anguilla        The Valley      13254      102.0\n",
      "..                    ...               ...        ...        ...\n",
      "245                 Yemen             Sanaa   23495361   527970.0\n",
      "246               Mayotte         Mamoudzou     159042      374.0\n",
      "247          South Africa          Pretoria   49000000  1219912.0\n",
      "248                Zambia            Lusaka   13460305   752614.0\n",
      "249              Zimbabwe            Harare   11651858   390580.0\n",
      "\n",
      "[250 rows x 4 columns]\n"
     ]
    }
   ],
   "source": [
    "print(df)"
   ]
  },
  {
   "cell_type": "code",
   "execution_count": 149,
   "id": "4e863444-d5ee-4e1a-845a-db47f80307b4",
   "metadata": {},
   "outputs": [
    {
     "name": "stdout",
     "output_type": "stream",
     "text": [
      "Country       0\n",
      "Capital       0\n",
      "Population    0\n",
      "Area          0\n",
      "dtype: int64\n"
     ]
    }
   ],
   "source": [
    "null_count = df.isnull().sum()\n",
    "print(null_count)"
   ]
  },
  {
   "cell_type": "code",
   "execution_count": 150,
   "id": "2fdf2e6c-b0f0-4b6a-83bd-3ae0d835fbcc",
   "metadata": {},
   "outputs": [
    {
     "name": "stdout",
     "output_type": "stream",
     "text": [
      "Empty DataFrame\n",
      "Columns: [Country, Capital, Population, Area]\n",
      "Index: []\n"
     ]
    }
   ],
   "source": [
    "duplicate_rows = df[df.duplicated()]\n",
    "print(duplicate_rows)"
   ]
  },
  {
   "cell_type": "code",
   "execution_count": 139,
   "id": "519440d5-edc0-4c26-9d55-61361dba6c30",
   "metadata": {},
   "outputs": [],
   "source": [
    "df.to_csv('countries.csv', index=False)"
   ]
  },
  {
   "cell_type": "code",
   "execution_count": null,
   "id": "5220e14a-7de1-480f-aadd-55a2311a1861",
   "metadata": {},
   "outputs": [],
   "source": []
  }
 ],
 "metadata": {
  "kernelspec": {
   "display_name": "Python 3 (ipykernel)",
   "language": "python",
   "name": "python3"
  },
  "language_info": {
   "codemirror_mode": {
    "name": "ipython",
    "version": 3
   },
   "file_extension": ".py",
   "mimetype": "text/x-python",
   "name": "python",
   "nbconvert_exporter": "python",
   "pygments_lexer": "ipython3",
   "version": "3.12.4"
  }
 },
 "nbformat": 4,
 "nbformat_minor": 5
}
